{
 "cells": [
  {
   "cell_type": "markdown",
   "id": "51af9d6b",
   "metadata": {},
   "source": [
    "<div >\n",
    "<img src = \"figs/taller-meca-aprendizaje no supervisado_banner 1169 x 200 px -05.png\" />\n",
    "</div>"
   ]
  },
  {
   "cell_type": "markdown",
   "id": "c17e199e",
   "metadata": {},
   "source": [
    "# Caso-taller:  PCA para estudiar la dimensionalidad de la calidad de vida en las ciudades "
   ]
  },
  {
   "cell_type": "markdown",
   "id": "c267a5e7",
   "metadata": {},
   "source": [
    "En este caso-taller vamos a aplicar PCA en el estudio de calidad de vida en diferentes ciudades. Para ello, haremos uso de los datos que surgen del Almanaque Calificado de Lugares. En este Almanaque Boyer y Savageau calificaron 329 ciudades de acuerdo con los siguientes nueve criterios:\n",
    "\n",
    "   - Clima y Terreno\n",
    "   - Alojamiento\n",
    "   - Cuidado de la salud y el medio ambiente\n",
    "   - Crimen\n",
    "   - Transporte\n",
    "   - Educación\n",
    "   - Artes\n",
    "   - Recreación\n",
    "   - Economía \n",
    "\n",
    "Con tantas variables disponibles, la matriz de dispersión puede resultar muy grande para estudiarla e interpretarla adecuadamente. Habría demasiadas correlaciones bivariadas entre las variables a considerar. Para interpretar los datos de una forma más significativa es necesario reducir el número de variables a unas pocas dimensiones, y para ello en este ejercicio recurriremos al análisis de componentes principales. \n",
    " "
   ]
  },
  {
   "cell_type": "markdown",
   "id": "6c57a5bd",
   "metadata": {},
   "source": [
    "## Instrucciones generales"
   ]
  },
  {
   "cell_type": "markdown",
   "id": "40134a94",
   "metadata": {},
   "source": [
    "1. Para desarrollar el *cuaderno* primero debe descargarlo junto al archivo de soporte.\n",
    "\n",
    "2. Para responder cada inciso deberá utilizar el espacio debidamente especificado.\n",
    "\n",
    "3. La actividad será calificada sólo si sube el *cuaderno* de jupyter notebook con extensión `.ipynb` en la actividad designada como \"entrega calificada por el personal\".\n",
    "\n",
    "4. El archivo entregado debe poder ser ejecutado localmente por el tutor. Sea cuidadoso con la especificación de la ubicación de los archivos de soporte, guarde la carpeta de datos en la misma ruta de acceso del cuaderno, por ejemplo: `data/archivo_de_soporte.csv`."
   ]
  },
  {
   "cell_type": "markdown",
   "id": "b2a122c1",
   "metadata": {},
   "source": [
    "## Desarrollo\n"
   ]
  },
  {
   "cell_type": "markdown",
   "id": "75d1a0db",
   "metadata": {},
   "source": [
    "### 1. Carga de datos\n",
    "\n",
    "En la carpeta `data` se encuentra el archivo `lugares.csv` cargue estos datos en su *cuaderno*."
   ]
  },
  {
   "cell_type": "code",
   "execution_count": null,
   "id": "089aa956",
   "metadata": {},
   "outputs": [],
   "source": [
    "# Utilice este espacio para escribir el código."
   ]
  },
  {
   "cell_type": "raw",
   "id": "db471f2c",
   "metadata": {},
   "source": [
    "(Utilice este espacio para describir su procedimiento)"
   ]
  },
  {
   "cell_type": "markdown",
   "id": "342a1e75",
   "metadata": {},
   "source": [
    "### 2.  Análisis descriptivo de las variables. \n",
    "\n",
    "Para el análisis descriptivo haga uso de estadísticas descriptivas y matrices de correlación. Indique además cuantas gráficas de dispersión bivariadas debería examinar con este número de variables. \n",
    "\n",
    "Explique porqué es importante conocer las estadísticas descriptivas y como contribuyen al ejercicio posterior de Análisis de Componentes Principales.\n",
    " \n",
    "Tenga en cuenta que para las variables, a excepción de la alojamiento y crimen, cuanto mayor sea el puntaje, mejor. Por el contrario; para alojamiento y crimen, mientras más bajo sea el puntaje, mejor. También, mientras algunas comunidades podrían calificar mejor en las artes, otras podrían calificar mejor en otras áreas como tener una tasa de criminalidad más baja y buenas oportunidades educativas."
   ]
  },
  {
   "cell_type": "code",
   "execution_count": null,
   "id": "7d82f699",
   "metadata": {},
   "outputs": [],
   "source": [
    "# Utilice este espacio para escribir el código."
   ]
  },
  {
   "cell_type": "markdown",
   "id": "290662d0",
   "metadata": {},
   "source": [
    "(Utilice este espacio para describir el procedimiento, análisis y conclusiones)."
   ]
  },
  {
   "cell_type": "markdown",
   "id": "904003c8",
   "metadata": {},
   "source": [
    "### 3.  Cálculo y selección de componentes principales.\n",
    "\n",
    "Utilizando Álgebra Lineal, calcule los eigen valores y los eigen vectores, a partir de ellos obtenga los Componentes Principales. Tenga en cuenta de estandarizar las variables y explicar por qué es importante no omitir este paso. \n",
    "\n",
    "Luego, examine los valores propios para determinar cuántos componentes principales se deben considerar. Explique el criterio que utilizó para la elección y justifique su respuesta."
   ]
  },
  {
   "cell_type": "code",
   "execution_count": null,
   "id": "0b1d2277",
   "metadata": {},
   "outputs": [],
   "source": [
    "# Utilice este espacio para escribir el código."
   ]
  },
  {
   "cell_type": "markdown",
   "id": "c91ad425",
   "metadata": {},
   "source": [
    "(Utilice este espacio para describir el procedimiento, análisis, y conclusiones)."
   ]
  },
  {
   "cell_type": "markdown",
   "id": "101d1eb2",
   "metadata": {},
   "source": [
    "### 4.  Interpretación de los componentes principales. \n",
    "\n",
    "Logró reducir la dimensión en el ejercicio anterior? Si lo hizo, pueden los pesos obtenidos identificar dimensiones menores de los datos? Provea una interpretación a estas dimensiones, para ello puede utilizar gráficas y/o tablas."
   ]
  },
  {
   "cell_type": "code",
   "execution_count": null,
   "id": "bf4cac07",
   "metadata": {},
   "outputs": [],
   "source": [
    "# Utilice este espacio para escribir el código."
   ]
  },
  {
   "cell_type": "markdown",
   "id": "e8b20c4d",
   "metadata": {},
   "source": [
    "(Utilice este espacio para describir el procedimiento, análisis, y conclusiones)."
   ]
  },
  {
   "cell_type": "markdown",
   "id": "76ad13f0",
   "metadata": {},
   "source": [
    "### 5.   Detección de ciudades inusuales.\n",
    "\n",
    "A partir de los Componentes Principales identifique las 5 ciudades calidad de vida inusualmente alta. En la distribución de calidad de vida  de la muestra que tan inusuales son? Cuáles son las dimensiones que hacen que estas ciudades tengan esta calidad de vida inusual?"
   ]
  },
  {
   "cell_type": "code",
   "execution_count": null,
   "id": "bbf2c11b",
   "metadata": {},
   "outputs": [],
   "source": [
    "# Utilice este espacio para escribir el código."
   ]
  },
  {
   "cell_type": "markdown",
   "id": "0873589c",
   "metadata": {},
   "source": [
    "(Utilice este espacio para describir el procedimiento, análisis, y conclusiones)."
   ]
  }
 ],
 "metadata": {
  "kernelspec": {
   "display_name": "Python 3 (ipykernel)",
   "language": "python",
   "name": "python3"
  },
  "language_info": {
   "codemirror_mode": {
    "name": "ipython",
    "version": 3
   },
   "file_extension": ".py",
   "mimetype": "text/x-python",
   "name": "python",
   "nbconvert_exporter": "python",
   "pygments_lexer": "ipython3",
   "version": "3.11.7"
  },
  "toc": {
   "base_numbering": 1,
   "nav_menu": {},
   "number_sections": true,
   "sideBar": true,
   "skip_h1_title": false,
   "title_cell": "Table of Contents",
   "title_sidebar": "Contents",
   "toc_cell": false,
   "toc_position": {},
   "toc_section_display": true,
   "toc_window_display": false
  }
 },
 "nbformat": 4,
 "nbformat_minor": 5
}
